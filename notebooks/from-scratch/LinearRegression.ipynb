{
 "cells": [
  {
   "cell_type": "code",
   "execution_count": 3,
   "id": "c300c615-4444-452f-ae26-b741b92355a9",
   "metadata": {
    "id": "c300c615-4444-452f-ae26-b741b92355a9"
   },
   "outputs": [],
   "source": [
    "import pandas as pd\n",
    "import numpy as np\n",
    "import matplotlib.pyplot as plt\n",
    "import math\n",
    "from tqdm import tqdm\n",
    "from sklearn.model_selection import train_test_split"
   ]
  },
  {
   "cell_type": "code",
   "execution_count": 4,
   "id": "75b7d2a4-cc86-49d5-b446-3ee48b151596",
   "metadata": {
    "id": "75b7d2a4-cc86-49d5-b446-3ee48b151596"
   },
   "outputs": [],
   "source": [
    "class LinearRegression:\n",
    "    def __init__(self, X, y, learning_rate, tolerance, max_iterations, lambda_, sgd_iterations, min_batch_size, max_batch_size, gd=False, regularization=False, sgd=False):\n",
    "        self.X = X\n",
    "        self.y = y\n",
    "        self.learning_rate = learning_rate\n",
    "        self.tolerance = tolerance\n",
    "        self.max_iterations = max_iterations\n",
    "        self.lambda_ = lambda_  # regularization parameter\n",
    "        self.sgd_iterations = sgd_iterations\n",
    "        #self.batch_size = batch_size\n",
    "        self.gd = gd\n",
    "        self.regularization = regularization\n",
    "        self.sgd = sgd\n",
    "        self.min_batch_size = min_batch_size\n",
    "        self.max_batch_size = max_batch_size\n",
    "        \n",
    "\n",
    "    # Step_1: Split data into training and testing\n",
    "    def split_data(self):\n",
    "        X_train, X_test, y_train, y_test = train_test_split(self.X, self.y, test_size=0.3, shuffle=True)\n",
    "        return X_train, X_test, y_train, y_test\n",
    "\n",
    "    # Step_2: Adding one new column at beginning for intercept\n",
    "    def add_bias(self, X):\n",
    "        return np.column_stack([np.ones(X.shape[0]), X])\n",
    "\n",
    "    # Step_3: Normalizing the training data and then adding column at beginning for intercept\n",
    "    def normalize_train(self, X):\n",
    "        mean = np.mean(X, axis=0)\n",
    "        std = np.std(X, axis=0)\n",
    "        X_norm = (X - mean) / std\n",
    "        X_norm = self.add_bias(X_norm)\n",
    "        return mean, std, X_norm\n",
    "\n",
    "    def normalize_test(self, X, mean, std):\n",
    "        X_norm = (X - mean) / std\n",
    "        X_norm = self.add_bias(X_norm)\n",
    "        return X_norm\n",
    "\n",
    "    # Step_4: Closed Form solution/Normal Equation (Analytical Approach)\n",
    "    \n",
    "    def rank(self, X):\n",
    "        rank = np.linalg.matrix_rank(X)\n",
    "        return rank\n",
    "\n",
    "    def checkFullrank(self, X):\n",
    "        rank = self.rank(X)\n",
    "        if rank == min(X.shape):\n",
    "            print(\"It's full rank\")\n",
    "            self.Fullrank = True\n",
    "        else:\n",
    "            self.Fullrank = False\n",
    "\n",
    "    def checkLowRank(self, X):\n",
    "        if X.shape[1] > X.shape[0]:\n",
    "            print(\"It's low rank\")\n",
    "            self.LowRank = True\n",
    "        else:\n",
    "            self.LowRank = False\n",
    "            \n",
    "    def normal_equation(self, X, y):\n",
    "        self.w = np.linalg.inv(X.T.dot(X)).dot(X.T).dot(y)\n",
    "        \n",
    "    # Regularization (Ridge) with closed form solution\n",
    "    def ridge_regression_normal(self, X, y, lambda_):\n",
    "        m = X.shape[1]  # Number of features including intercept\n",
    "        I = np.identity(m)  # Identity matrix\n",
    "        #I[0, 0] = 0  # Do not regularize the bias term\n",
    "        self.w = np.linalg.inv(X.T.dot(X) + lambda_ * I).dot(X.T).dot(y)\n",
    "        \n",
    "\n",
    "    def predict(self, X):\n",
    "        return X.dot(self.w)\n",
    "\n",
    "    # Sum of Squared Errors\n",
    "    def sse(self, X, y):\n",
    "        y_hat = self.predict(X)\n",
    "        return ((y_hat - y) ** 2).sum()\n",
    "\n",
    "    # Root Mean Squared Error\n",
    "    def rmse(self, X, y):\n",
    "        sse = self.sse(X, y)\n",
    "        return np.sqrt(sse / X.shape[0])\n",
    "\n",
    "    # Cost function (RMSE)\n",
    "    def cost_function_rmse(self, X, y):\n",
    "        rmse = self.rmse(X, y)\n",
    "        return rmse / 2\n",
    "\n",
    "    # Gradient of cost function\n",
    "    def cost_derivative(self, X, y):\n",
    "        y_hat = self.predict(X)\n",
    "        return (y_hat - y).dot(X)\n",
    "\n",
    "    def reg_cost_derivative(self, X, y):\n",
    "        y_hat = self.predict(X)\n",
    "        return (y_hat - y).dot(X) / X.shape[0]\n",
    "\n",
    "    # Gradient Descent\n",
    "    def gradient_descent(self, X, y):\n",
    "        self.errors = []  # list to keep track of errors\n",
    "        prev_error = float(np.inf)  # variable that keeps track of previous error\n",
    "\n",
    "        # Initialize weights with size including intercept term\n",
    "        self.w = np.zeros(X.shape[1])\n",
    "\n",
    "        for i in tqdm(range(self.max_iterations)):\n",
    "            grad = self.cost_derivative(X, y)\n",
    "            self.w = self.w - self.learning_rate * grad\n",
    "            current_error = self.cost_function_rmse(X, y)\n",
    "            self.errors.append(current_error)\n",
    "            if abs(current_error - prev_error) < self.tolerance:\n",
    "                print(\"The model stopped learning\")\n",
    "                break\n",
    "            prev_error = current_error\n",
    "\n",
    "        self.plot_rmse(self.errors)\n",
    "\n",
    "    # Regularization using norm 2 (Ridge Regression)\n",
    "    def reg_gradient_descent(self, X, y,lambda_):\n",
    "        self.errors = []  # list to keep track of errors\n",
    "        prev_error = float(np.inf)  # variable that keeps track of previous error\n",
    "\n",
    "        # Initialize weights with size including intercept term\n",
    "        self.w = np.zeros(X.shape[1])\n",
    "\n",
    "        for i in tqdm(range(self.max_iterations)):\n",
    "            grad = self.cost_derivative(X, y) + (lambda_) * self.w\n",
    "            self.w = self.w - self.learning_rate * grad\n",
    "            current_error = self.cost_function_rmse(X, y)\n",
    "            self.errors.append(current_error)\n",
    "            if abs(current_error - prev_error) < self.tolerance:\n",
    "                print(\"The model stopped learning\")\n",
    "                break\n",
    "            prev_error = current_error\n",
    "\n",
    "        self.plot_rmse(self.errors)\n",
    "\n",
    "    def sgradient_descent(self, X, y):\n",
    "        self.errors = []  # list to keep track of errors\n",
    "        self.batch_sizes = []  # list to keep track of batch sizes\n",
    "        prev_error = float(np.inf)  # variable that keeps track of previous error\n",
    "\n",
    "        # Initialize weights with size including intercept term\n",
    "        self.w = np.zeros(X.shape[1])\n",
    "\n",
    "        for i in tqdm(range(self.sgd_iterations)):\n",
    "            current_batch_size = np.random.randint(self.min_batch_size, self.max_batch_size)\n",
    "            self.batch_sizes.append(current_batch_size)\n",
    "            batch_indices = np.random.randint(0, X.shape[0], current_batch_size)\n",
    "            self.w = self.w - self.learning_rate * self.cost_derivative(X[batch_indices], y[batch_indices])\n",
    "            current_error = self.cost_function_rmse(X, y)\n",
    "            self.errors.append(current_error)\n",
    "            if abs(current_error - prev_error) < self.tolerance:\n",
    "                print(\"The model stopped learning\")\n",
    "                break\n",
    "            prev_error = current_error\n",
    "\n",
    "        self.plot_rmse(self.errors)\n",
    "        print(\"Batch sizes used during training:\", self.batch_sizes)                            \n",
    "                                \n",
    "        \n",
    "    # Plot RMSE\n",
    "    def plot_rmse(self, error_sequence):\n",
    "        \"\"\"\n",
    "        @X: error_sequence, vector of rmse\n",
    "        @does: Plots the error function\n",
    "        @return: plot\n",
    "        \"\"\"\n",
    "        # Data for plotting\n",
    "        s = np.array(error_sequence)\n",
    "        t = np.arange(s.size)\n",
    "\n",
    "        fig, ax = plt.subplots()\n",
    "        ax.plot(t, s, label='RMSE')  \n",
    "\n",
    "        ax.set(xlabel='iterations', ylabel='RMSE', title='Error Trend')\n",
    "        ax.grid()\n",
    "        ax.legend()\n",
    "\n",
    "        plt.show()\n",
    "\n",
    "    # Step_5: One main function connecting everything together\n",
    "    \n",
    "    def fit(self):\n",
    "        # Split data into training and testing sets\n",
    "        X_train, X_test, y_train, y_test = self.split_data()\n",
    "        # Normalize the training data\n",
    "        mean, std, X_train = self.normalize_train(X_train)\n",
    "        # Normalize the testing data using the training data mean and std\n",
    "        X_test = self.normalize_test(X_test, mean, std)\n",
    "\n",
    "        # Check if Gradient Descent or Stochastic Gradient Descent is not specified\n",
    "        if not self.gd and not self.sgd:\n",
    "            print(\"Solving using Normal Equation...\")\n",
    "\n",
    "            # Check if regularization is required\n",
    "            if self.regularization and self.lambda_ > 0:\n",
    "                print(\"With Regularization\")\n",
    "                self.ridge_regression_normal(X_train, y_train, self.lambda_)\n",
    "            else:\n",
    "                # Check if the matrix is of full rank\n",
    "                self.checkFullrank(X_train)\n",
    "                if self.Fullrank:\n",
    "                    print(\"Matrix is full rank, solving with Normal Equation without regularization\")\n",
    "                    self.normal_equation(X_train, y_train)\n",
    "                else:\n",
    "                    print(\"Matrix is not full rank, solving with Gradient Descent without regularization\")\n",
    "                    self.gradient_descent(X_train, y_train)\n",
    "        elif self.gd:\n",
    "            print(\"Solving using Gradient Descent...\")\n",
    "\n",
    "            # Check if regularization is required\n",
    "            if self.regularization and self.lambda_ > 0:\n",
    "                print(\"With Regularization\")\n",
    "                self.reg_gradient_descent(X_train, y_train, self.lambda_)\n",
    "            else:\n",
    "                print(\"Without Regularization\")\n",
    "                self.gradient_descent(X_train, y_train)\n",
    "        elif self.sgd:\n",
    "            print(\"Solving using Stochastic Gradient Descent...\")\n",
    "            self.sgradient_descent(X_train, y_train)\n",
    "\n",
    "        print(\"Final weights:\", self.w)\n",
    "        \n",
    "        print(\"Train_RMSE: \", self.rmse(X_train, y_train))\n",
    "        print(\"Train_SSE: \", self.sse(X_train, y_train))\n",
    "        print(\"Test_RMSE: \", self.rmse(X_test, y_test))\n",
    "        print(\"Test_SSE: \", self.sse(X_test, y_test))"
   ]
  },
  {
   "cell_type": "markdown",
   "id": "SRglzljZQAQj",
   "metadata": {
    "id": "SRglzljZQAQj"
   },
   "source": [
    "## Housing Dataset"
   ]
  },
  {
   "cell_type": "code",
   "execution_count": 5,
   "id": "FNUTnpGD_tUF",
   "metadata": {
    "id": "FNUTnpGD_tUF"
   },
   "outputs": [],
   "source": [
    "df_housing = pd.read_csv(r\"../dataset/housing.csv\")"
   ]
  },
  {
   "cell_type": "code",
   "execution_count": 6,
   "id": "SYDp7-QOYFVY",
   "metadata": {
    "colab": {
     "base_uri": "https://localhost:8080/",
     "height": 206
    },
    "id": "SYDp7-QOYFVY",
    "outputId": "f66b599c-3bdc-4da1-925a-94b15f41633c"
   },
   "outputs": [
    {
     "data": {
      "text/html": [
       "<div>\n",
       "<style scoped>\n",
       "    .dataframe tbody tr th:only-of-type {\n",
       "        vertical-align: middle;\n",
       "    }\n",
       "\n",
       "    .dataframe tbody tr th {\n",
       "        vertical-align: top;\n",
       "    }\n",
       "\n",
       "    .dataframe thead th {\n",
       "        text-align: right;\n",
       "    }\n",
       "</style>\n",
       "<table border=\"1\" class=\"dataframe\">\n",
       "  <thead>\n",
       "    <tr style=\"text-align: right;\">\n",
       "      <th></th>\n",
       "      <th>0.00632</th>\n",
       "      <th>18</th>\n",
       "      <th>2.31</th>\n",
       "      <th>0</th>\n",
       "      <th>0.538</th>\n",
       "      <th>6.575</th>\n",
       "      <th>65.2</th>\n",
       "      <th>4.09</th>\n",
       "      <th>1</th>\n",
       "      <th>296</th>\n",
       "      <th>15.3</th>\n",
       "      <th>396.9</th>\n",
       "      <th>4.98</th>\n",
       "      <th>24</th>\n",
       "    </tr>\n",
       "  </thead>\n",
       "  <tbody>\n",
       "    <tr>\n",
       "      <th>0</th>\n",
       "      <td>0.02731</td>\n",
       "      <td>0.0</td>\n",
       "      <td>7.07</td>\n",
       "      <td>0</td>\n",
       "      <td>0.469</td>\n",
       "      <td>6.421</td>\n",
       "      <td>78.9</td>\n",
       "      <td>4.9671</td>\n",
       "      <td>2</td>\n",
       "      <td>242</td>\n",
       "      <td>17.8</td>\n",
       "      <td>396.90</td>\n",
       "      <td>9.14</td>\n",
       "      <td>21.6</td>\n",
       "    </tr>\n",
       "    <tr>\n",
       "      <th>1</th>\n",
       "      <td>0.02729</td>\n",
       "      <td>0.0</td>\n",
       "      <td>7.07</td>\n",
       "      <td>0</td>\n",
       "      <td>0.469</td>\n",
       "      <td>7.185</td>\n",
       "      <td>61.1</td>\n",
       "      <td>4.9671</td>\n",
       "      <td>2</td>\n",
       "      <td>242</td>\n",
       "      <td>17.8</td>\n",
       "      <td>392.83</td>\n",
       "      <td>4.03</td>\n",
       "      <td>34.7</td>\n",
       "    </tr>\n",
       "    <tr>\n",
       "      <th>2</th>\n",
       "      <td>0.03237</td>\n",
       "      <td>0.0</td>\n",
       "      <td>2.18</td>\n",
       "      <td>0</td>\n",
       "      <td>0.458</td>\n",
       "      <td>6.998</td>\n",
       "      <td>45.8</td>\n",
       "      <td>6.0622</td>\n",
       "      <td>3</td>\n",
       "      <td>222</td>\n",
       "      <td>18.7</td>\n",
       "      <td>394.63</td>\n",
       "      <td>2.94</td>\n",
       "      <td>33.4</td>\n",
       "    </tr>\n",
       "    <tr>\n",
       "      <th>3</th>\n",
       "      <td>0.06905</td>\n",
       "      <td>0.0</td>\n",
       "      <td>2.18</td>\n",
       "      <td>0</td>\n",
       "      <td>0.458</td>\n",
       "      <td>7.147</td>\n",
       "      <td>54.2</td>\n",
       "      <td>6.0622</td>\n",
       "      <td>3</td>\n",
       "      <td>222</td>\n",
       "      <td>18.7</td>\n",
       "      <td>396.90</td>\n",
       "      <td>5.33</td>\n",
       "      <td>36.2</td>\n",
       "    </tr>\n",
       "    <tr>\n",
       "      <th>4</th>\n",
       "      <td>0.02985</td>\n",
       "      <td>0.0</td>\n",
       "      <td>2.18</td>\n",
       "      <td>0</td>\n",
       "      <td>0.458</td>\n",
       "      <td>6.430</td>\n",
       "      <td>58.7</td>\n",
       "      <td>6.0622</td>\n",
       "      <td>3</td>\n",
       "      <td>222</td>\n",
       "      <td>18.7</td>\n",
       "      <td>394.12</td>\n",
       "      <td>5.21</td>\n",
       "      <td>28.7</td>\n",
       "    </tr>\n",
       "  </tbody>\n",
       "</table>\n",
       "</div>"
      ],
      "text/plain": [
       "   0.00632   18  2.31  0  0.538  6.575  65.2    4.09  1  296  15.3   396.9  \\\n",
       "0  0.02731  0.0  7.07  0  0.469  6.421  78.9  4.9671  2  242  17.8  396.90   \n",
       "1  0.02729  0.0  7.07  0  0.469  7.185  61.1  4.9671  2  242  17.8  392.83   \n",
       "2  0.03237  0.0  2.18  0  0.458  6.998  45.8  6.0622  3  222  18.7  394.63   \n",
       "3  0.06905  0.0  2.18  0  0.458  7.147  54.2  6.0622  3  222  18.7  396.90   \n",
       "4  0.02985  0.0  2.18  0  0.458  6.430  58.7  6.0622  3  222  18.7  394.12   \n",
       "\n",
       "   4.98    24  \n",
       "0  9.14  21.6  \n",
       "1  4.03  34.7  \n",
       "2  2.94  33.4  \n",
       "3  5.33  36.2  \n",
       "4  5.21  28.7  "
      ]
     },
     "execution_count": 6,
     "metadata": {},
     "output_type": "execute_result"
    }
   ],
   "source": [
    "df_housing.head()"
   ]
  },
  {
   "cell_type": "code",
   "execution_count": 7,
   "id": "yxmb7G3r_vKk",
   "metadata": {
    "id": "yxmb7G3r_vKk"
   },
   "outputs": [],
   "source": [
    "X_housing = df_housing.iloc[:, :-1].values\n",
    "y_housing = df_housing.iloc[:, -1].values"
   ]
  },
  {
   "cell_type": "code",
   "execution_count": 8,
   "id": "Pz6elvjrCPmF",
   "metadata": {
    "colab": {
     "base_uri": "https://localhost:8080/"
    },
    "id": "Pz6elvjrCPmF",
    "outputId": "64d27949-55bf-4d1a-cc7e-aa39fefd68c4"
   },
   "outputs": [
    {
     "name": "stdout",
     "output_type": "stream",
     "text": [
      "Solving using Normal Equation...\n",
      "It's full rank\n",
      "Matrix is full rank, solving with Normal Equation without regularization\n",
      "Final weights: [22.83597734 -0.99619476  1.14683237  0.0909117   0.74295545 -2.22916075\n",
      "  2.91550516 -0.1044792  -3.380708    2.45739825 -1.83611073 -2.19462061\n",
      "  0.65669255 -3.78740528]\n",
      "Train_RMSE:  4.726860227883014\n",
      "Train_SSE:  7887.152287721617\n",
      "Test_RMSE:  4.597958467766612\n",
      "Test_SSE:  3213.465754838618\n"
     ]
    }
   ],
   "source": [
    "clf = LinearRegression(X_housing, y_housing, learning_rate=0.0004, tolerance=0.005, max_iterations=50000, lambda_ = 0,\n",
    "                       sgd_iterations=100,min_batch_size=0, max_batch_size=0, gd=False, regularization=False, sgd=False)\n",
    "clf.fit()\n",
    "\n",
    "# Since normal equation doesn't populate the errors list, we only plot RMSE if using gradient descent or SGD\n",
    "#if clf.gd or clf.sgd:\n",
    " #   clf.plot_rmse(clf.errors)"
   ]
  },
  {
   "cell_type": "code",
   "execution_count": 9,
   "id": "eX7ixTBDB2xp",
   "metadata": {
    "colab": {
     "base_uri": "https://localhost:8080/"
    },
    "id": "eX7ixTBDB2xp",
    "outputId": "7133066c-638a-4539-c997-d3bdbd4a21e2"
   },
   "outputs": [
    {
     "name": "stdout",
     "output_type": "stream",
     "text": [
      "Solving using Normal Equation...\n",
      "With Regularization\n",
      "Final weights: [22.68293858 -0.77708765  1.18453662  0.14115796  0.6579575  -1.9334628\n",
      "  2.85579764  0.21512742 -2.7702171   2.75714166 -2.28437931 -2.02700642\n",
      "  0.6237938  -3.54435236]\n",
      "Train_RMSE:  4.46298754242952\n",
      "Train_SSE:  7031.1450047700255\n",
      "Test_RMSE:  5.185875054565435\n",
      "Test_SSE:  4087.7816123977354\n"
     ]
    }
   ],
   "source": [
    "clf = LinearRegression(X_housing, y_housing, learning_rate=0.0004, tolerance=0.005, max_iterations=50000, lambda_=0.001,\n",
    "                       sgd_iterations=100, min_batch_size=0, max_batch_size=0, gd=False, regularization=True, sgd=False)\n",
    "clf.fit()\n",
    "\n",
    "# Since normal equation doesn't populate the errors list, we only plot RMSE if using gradient descent or SGD\n",
    "#if clf.gd or clf.sgd:\n",
    " #   clf.plot_rmse(clf.errors)"
   ]
  },
  {
   "cell_type": "code",
   "execution_count": 10,
   "id": "PXgtsTnFCZP-",
   "metadata": {
    "colab": {
     "base_uri": "https://localhost:8080/",
     "height": 600
    },
    "id": "PXgtsTnFCZP-",
    "outputId": "8b20038a-7dad-48be-d70d-daad54356dbc"
   },
   "outputs": [
    {
     "name": "stdout",
     "output_type": "stream",
     "text": [
      "Solving using Gradient Descent...\n",
      "Without Regularization\n"
     ]
    },
    {
     "name": "stderr",
     "output_type": "stream",
     "text": [
      "  0%|          | 27/50000 [00:00<00:03, 15349.17it/s]"
     ]
    },
    {
     "name": "stdout",
     "output_type": "stream",
     "text": [
      "The model stopped learning\n"
     ]
    },
    {
     "name": "stderr",
     "output_type": "stream",
     "text": [
      "\n"
     ]
    },
    {
     "data": {
      "image/png": "[encoded data removed]",
      "text/plain": [
       "<Figure size 640x480 with 1 Axes>"
      ]
     },
     "metadata": {},
     "output_type": "display_data"
    },
    {
     "name": "stdout",
     "output_type": "stream",
     "text": [
      "Final weights: [22.58622736 -0.85021034  0.2327993  -0.39898446  0.78815348 -0.99630204\n",
      "  3.12749523 -0.13444913 -1.89759129  0.86766453 -0.39853331 -1.88037126\n",
      "  0.57083089 -3.67054595]\n",
      "Train_RMSE:  4.9647954993052625\n",
      "Train_SSE:  8701.165605522392\n",
      "Test_RMSE:  4.358843402567251\n",
      "Test_SSE:  2887.9264028318157\n"
     ]
    }
   ],
   "source": [
    "clf = LinearRegression(X_housing, y_housing, learning_rate=0.0004, tolerance=0.005, max_iterations=50000, lambda_=0,\n",
    "                       sgd_iterations=100, min_batch_size=0, max_batch_size=0, gd=True, regularization=False, sgd=False)\n",
    "clf.fit()\n",
    "\n",
    "# Since normal equation doesn't populate the errors list, we only plot RMSE if using gradient descent or SGD\n",
    "#if clf.gd or clf.sgd:\n",
    " #   clf.plot_rmse(clf.errors)"
   ]
  },
  {
   "cell_type": "code",
   "execution_count": 11,
   "id": "o16Yku7zC_mU",
   "metadata": {
    "colab": {
     "base_uri": "https://localhost:8080/",
     "height": 600
    },
    "id": "o16Yku7zC_mU",
    "outputId": "4c9fcf77-7c39-472e-ba18-e5cb691840dd"
   },
   "outputs": [
    {
     "name": "stdout",
     "output_type": "stream",
     "text": [
      "Solving using Gradient Descent...\n",
      "With Regularization\n"
     ]
    },
    {
     "name": "stderr",
     "output_type": "stream",
     "text": [
      "  0%|          | 26/50000 [00:00<00:02, 17249.59it/s]"
     ]
    },
    {
     "name": "stdout",
     "output_type": "stream",
     "text": [
      "The model stopped learning\n"
     ]
    },
    {
     "name": "stderr",
     "output_type": "stream",
     "text": [
      "\n"
     ]
    },
    {
     "data": {
      "image/png": "[encoded data removed]",
      "text/plain": [
       "<Figure size 640x480 with 1 Axes>"
      ]
     },
     "metadata": {},
     "output_type": "display_data"
    },
    {
     "name": "stdout",
     "output_type": "stream",
     "text": [
      "Final weights: [21.88832291 -0.84770724  0.35835266 -0.66034517  0.47527344 -0.83976548\n",
      "  3.0324265  -0.19254772 -1.78871789  0.8564258  -0.36016854 -1.76666036\n",
      "  0.93568733 -2.99992736]\n",
      "Train_RMSE:  4.69051975190777\n",
      "Train_SSE:  7766.344366692037\n",
      "Test_RMSE:  5.2176469638418945\n",
      "Test_SSE:  4138.023655571858\n"
     ]
    }
   ],
   "source": [
    "clf = LinearRegression(X_housing, y_housing, learning_rate=0.0004, tolerance=0.005, max_iterations=50000, lambda_=0.001,\n",
    "                       sgd_iterations=100, min_batch_size=0, max_batch_size=0, gd=True, regularization=True, sgd=False)\n",
    "clf.fit()\n",
    "\n",
    "# Since normal equation doesn't populate the errors list, we only plot RMSE if using gradient descent or SGD\n",
    "#if clf.gd or clf.sgd:\n",
    " #   clf.plot_rmse(clf.errors)"
   ]
  },
  {
   "cell_type": "code",
   "execution_count": 12,
   "id": "zmgXf6leCZWO",
   "metadata": {
    "colab": {
     "base_uri": "https://localhost:8080/",
     "height": 581
    },
    "id": "zmgXf6leCZWO",
    "outputId": "594d84e8-4ff7-4627-fd31-339b93fd11f0"
   },
   "outputs": [
    {
     "name": "stdout",
     "output_type": "stream",
     "text": [
      "Solving using Stochastic Gradient Descent...\n"
     ]
    },
    {
     "name": "stderr",
     "output_type": "stream",
     "text": [
      " 77%|███████▋  | 77/100 [00:00<00:00, 6756.51it/s]"
     ]
    },
    {
     "name": "stdout",
     "output_type": "stream",
     "text": [
      "The model stopped learning\n"
     ]
    },
    {
     "name": "stderr",
     "output_type": "stream",
     "text": [
      "\n"
     ]
    },
    {
     "data": {
      "image/png": "[encoded data removed]",
      "text/plain": [
       "<Figure size 640x480 with 1 Axes>"
      ]
     },
     "metadata": {},
     "output_type": "display_data"
    },
    {
     "name": "stdout",
     "output_type": "stream",
     "text": [
      "Batch sizes used during training: [45, 69, 20, 37, 84, 58, 89, 51, 71, 38, 22, 36, 86, 38, 79, 38, 31, 35, 63, 22, 87, 79, 61, 69, 70, 43, 17, 80, 50, 66, 67, 72, 23, 93, 33, 76, 24, 29, 82, 85, 66, 74, 98, 38, 63, 58, 69, 45, 67, 51, 10, 53, 38, 44, 10, 34, 68, 31, 12, 24, 76, 59, 35, 96, 66, 90, 21, 74, 15, 44, 64, 57, 93, 61, 39, 69, 63, 11]\n",
      "Final weights: [19.07178637 -0.31933315  0.55039123 -0.37503603  0.61117177 -0.59113088\n",
      "  3.27152597 -0.08794528 -1.30401887  0.15849565 -0.47429635 -1.57906434\n",
      "  0.9035166  -2.89845093]\n",
      "Train_RMSE:  6.410642895672162\n",
      "Train_SSE:  14507.008844548682\n",
      "Test_RMSE:  6.058246841536332\n",
      "Test_SSE:  5578.757928533711\n"
     ]
    }
   ],
   "source": [
    "clf = LinearRegression(X_housing, y_housing, learning_rate=0.0004, tolerance=0.005, max_iterations=50000, lambda_=0,\n",
    "                       sgd_iterations=100, min_batch_size=10, max_batch_size=100, gd=False, regularization=False, sgd=True)\n",
    "clf.fit()\n"
   ]
  },
  {
   "cell_type": "code",
   "execution_count": null,
   "id": "7e5363d8-2525-4f1f-a9d6-8ee903500293",
   "metadata": {},
   "outputs": [],
   "source": []
  },
  {
   "cell_type": "markdown",
   "id": "LEXSxpm-VR9B",
   "metadata": {
    "id": "LEXSxpm-VR9B"
   },
   "source": [
    "**Smaller batch sizes in stochastic gradient descent (SGD) lead to faster convergence and lower RMSE values as they update the model more frequently with diverse data points, enabling quicker adjustments towards the optimal solution. Random shuffling ensures effectiveness by preventing the model from being trapped in local minima.**"
   ]
  },
  {
   "cell_type": "markdown",
   "id": "FUwyAMFnXUsP",
   "metadata": {
    "id": "FUwyAMFnXUsP"
   },
   "source": [
    "## Yacht DataSet"
   ]
  },
  {
   "cell_type": "code",
   "execution_count": 13,
   "id": "9xxMkzFhQcRM",
   "metadata": {
    "id": "9xxMkzFhQcRM"
   },
   "outputs": [],
   "source": [
    "df_yacht = pd.read_csv(r\"../dataset/yachtData.csv\")\n"
   ]
  },
  {
   "cell_type": "code",
   "execution_count": 14,
   "id": "plEENcFmYJ8I",
   "metadata": {
    "colab": {
     "base_uri": "https://localhost:8080/",
     "height": 206
    },
    "id": "plEENcFmYJ8I",
    "outputId": "69dc2d80-2156-4309-c0b9-b1121125a82b"
   },
   "outputs": [
    {
     "data": {
      "text/html": [
       "<div>\n",
       "<style scoped>\n",
       "    .dataframe tbody tr th:only-of-type {\n",
       "        vertical-align: middle;\n",
       "    }\n",
       "\n",
       "    .dataframe tbody tr th {\n",
       "        vertical-align: top;\n",
       "    }\n",
       "\n",
       "    .dataframe thead th {\n",
       "        text-align: right;\n",
       "    }\n",
       "</style>\n",
       "<table border=\"1\" class=\"dataframe\">\n",
       "  <thead>\n",
       "    <tr style=\"text-align: right;\">\n",
       "      <th></th>\n",
       "      <th>-2.3</th>\n",
       "      <th>0.568</th>\n",
       "      <th>4.78</th>\n",
       "      <th>3.99</th>\n",
       "      <th>3.17</th>\n",
       "      <th>0.125</th>\n",
       "      <th>0.11</th>\n",
       "    </tr>\n",
       "  </thead>\n",
       "  <tbody>\n",
       "    <tr>\n",
       "      <th>0</th>\n",
       "      <td>-2.3</td>\n",
       "      <td>0.568</td>\n",
       "      <td>4.78</td>\n",
       "      <td>3.99</td>\n",
       "      <td>3.17</td>\n",
       "      <td>0.150</td>\n",
       "      <td>0.27</td>\n",
       "    </tr>\n",
       "    <tr>\n",
       "      <th>1</th>\n",
       "      <td>-2.3</td>\n",
       "      <td>0.568</td>\n",
       "      <td>4.78</td>\n",
       "      <td>3.99</td>\n",
       "      <td>3.17</td>\n",
       "      <td>0.175</td>\n",
       "      <td>0.47</td>\n",
       "    </tr>\n",
       "    <tr>\n",
       "      <th>2</th>\n",
       "      <td>-2.3</td>\n",
       "      <td>0.568</td>\n",
       "      <td>4.78</td>\n",
       "      <td>3.99</td>\n",
       "      <td>3.17</td>\n",
       "      <td>0.200</td>\n",
       "      <td>0.78</td>\n",
       "    </tr>\n",
       "    <tr>\n",
       "      <th>3</th>\n",
       "      <td>-2.3</td>\n",
       "      <td>0.568</td>\n",
       "      <td>4.78</td>\n",
       "      <td>3.99</td>\n",
       "      <td>3.17</td>\n",
       "      <td>0.225</td>\n",
       "      <td>1.18</td>\n",
       "    </tr>\n",
       "    <tr>\n",
       "      <th>4</th>\n",
       "      <td>-2.3</td>\n",
       "      <td>0.568</td>\n",
       "      <td>4.78</td>\n",
       "      <td>3.99</td>\n",
       "      <td>3.17</td>\n",
       "      <td>0.250</td>\n",
       "      <td>1.82</td>\n",
       "    </tr>\n",
       "  </tbody>\n",
       "</table>\n",
       "</div>"
      ],
      "text/plain": [
       "   -2.3  0.568  4.78  3.99  3.17  0.125  0.11\n",
       "0  -2.3  0.568  4.78  3.99  3.17  0.150  0.27\n",
       "1  -2.3  0.568  4.78  3.99  3.17  0.175  0.47\n",
       "2  -2.3  0.568  4.78  3.99  3.17  0.200  0.78\n",
       "3  -2.3  0.568  4.78  3.99  3.17  0.225  1.18\n",
       "4  -2.3  0.568  4.78  3.99  3.17  0.250  1.82"
      ]
     },
     "execution_count": 14,
     "metadata": {},
     "output_type": "execute_result"
    }
   ],
   "source": [
    "df_yacht.head()"
   ]
  },
  {
   "cell_type": "code",
   "execution_count": 15,
   "id": "Xf-tZRdoQcRi",
   "metadata": {
    "id": "Xf-tZRdoQcRi"
   },
   "outputs": [],
   "source": [
    "X_yacht = df_yacht.iloc[:, :-1].values\n",
    "y_yacht = df_yacht.iloc[:, -1].values"
   ]
  },
  {
   "cell_type": "code",
   "execution_count": 16,
   "id": "ckpBKLzvQcRi",
   "metadata": {
    "colab": {
     "base_uri": "https://localhost:8080/"
    },
    "id": "ckpBKLzvQcRi",
    "outputId": "a8f9745c-3b8a-4912-eb5b-af1e29424f50"
   },
   "outputs": [
    {
     "name": "stdout",
     "output_type": "stream",
     "text": [
      "Solving using Normal Equation...\n",
      "It's full rank\n",
      "Matrix is full rank, solving with Normal Equation without regularization\n",
      "Final weights: [10.33504673 -0.09316082 -0.92563172 -0.73240761  0.6667469   0.29125555\n",
      " 11.89800375]\n",
      "Train_RMSE:  8.583561906142121\n",
      "Train_SSE:  15766.992489266871\n",
      "Test_RMSE:  9.55083267591247\n",
      "Test_SSE:  8483.311646704795\n"
     ]
    }
   ],
   "source": [
    "clf = LinearRegression(X_yacht, y_yacht, learning_rate=0.1 * 10**-2, tolerance=0.1 * 10**-2, max_iterations=50000, lambda_ = 0,\n",
    "                       sgd_iterations=100, min_batch_size=0, max_batch_size=0, gd=False, regularization=False, sgd=False)\n",
    "clf.fit()\n",
    "\n",
    "# Since normal equation doesn't populate the errors list, we only plot RMSE if using gradient descent or SGD\n",
    "#if clf.gd or clf.sgd:\n",
    " #   clf.plot_rmse(clf.errors)"
   ]
  },
  {
   "cell_type": "code",
   "execution_count": 17,
   "id": "F4vsXRQaQcRj",
   "metadata": {
    "colab": {
     "base_uri": "https://localhost:8080/"
    },
    "id": "F4vsXRQaQcRj",
    "outputId": "01224027-426b-44d9-8f11-3dc9a323ab6a"
   },
   "outputs": [
    {
     "name": "stdout",
     "output_type": "stream",
     "text": [
      "Solving using Normal Equation...\n",
      "With Regularization\n",
      "Final weights: [ 9.80906631  0.49261278  0.17733535 -0.91394627  0.03565528  1.1850387\n",
      " 11.96202065]\n",
      "Train_RMSE:  8.71826009356209\n",
      "Train_SSE:  16265.724638625416\n",
      "Test_RMSE:  9.391439867249835\n",
      "Test_SSE:  8202.52027855577\n"
     ]
    }
   ],
   "source": [
    "clf = LinearRegression(X_yacht, y_yacht, learning_rate=0.1 * 10**-2, tolerance=0.1 * 10**-2, max_iterations=50000, lambda_=0.001,\n",
    "                       sgd_iterations=100, min_batch_size=0, max_batch_size=0, gd=False, regularization=True, sgd=False)\n",
    "clf.fit()\n",
    "\n",
    "# Since normal equation doesn't populate the errors list, we only plot RMSE if using gradient descent or SGD\n",
    "#if clf.gd or clf.sgd:\n",
    " #   clf.plot_rmse(clf.errors)"
   ]
  },
  {
   "cell_type": "code",
   "execution_count": 18,
   "id": "ztHdG0N3QcRj",
   "metadata": {
    "colab": {
     "base_uri": "https://localhost:8080/",
     "height": 581
    },
    "id": "ztHdG0N3QcRj",
    "outputId": "87619589-f947-4dc7-e7ec-93dd3bbc480b"
   },
   "outputs": [
    {
     "name": "stdout",
     "output_type": "stream",
     "text": [
      "Solving using Gradient Descent...\n",
      "Without Regularization\n"
     ]
    },
    {
     "name": "stderr",
     "output_type": "stream",
     "text": [
      "  0%|          | 17/50000 [00:00<?, ?it/s]"
     ]
    },
    {
     "name": "stdout",
     "output_type": "stream",
     "text": [
      "The model stopped learning\n"
     ]
    },
    {
     "name": "stderr",
     "output_type": "stream",
     "text": [
      "\n"
     ]
    },
    {
     "data": {
      "image/png": "[encoded data removed]",
      "text/plain": [
       "<Figure size 640x480 with 1 Axes>"
      ]
     },
     "metadata": {},
     "output_type": "display_data"
    },
    {
     "name": "stdout",
     "output_type": "stream",
     "text": [
      "Final weights: [10.58725345  0.59347099 -0.45122174 -0.07455274  0.16277681 -0.21487921\n",
      " 12.48447948]\n",
      "Train_RMSE:  8.963459658044556\n",
      "Train_SSE:  17193.53233485794\n",
      "Test_RMSE:  8.674625803341296\n",
      "Test_SSE:  6998.1693530035\n"
     ]
    }
   ],
   "source": [
    "clf = LinearRegression(X_yacht, y_yacht, learning_rate=0.1 * 10**-2, tolerance=0.1 * 10**-2, max_iterations=50000, lambda_=0,\n",
    "                       sgd_iterations=100, min_batch_size=0, max_batch_size=0, gd=True, regularization=False, sgd=False)\n",
    "clf.fit()\n",
    "\n",
    "# Since normal equation doesn't populate the errors list, we only plot RMSE if using gradient descent or SGD\n",
    "#if clf.gd or clf.sgd:\n",
    " #   clf.plot_rmse(clf.errors)"
   ]
  },
  {
   "cell_type": "code",
   "execution_count": 19,
   "id": "6rKVURPoQcRk",
   "metadata": {
    "colab": {
     "base_uri": "https://localhost:8080/",
     "height": 581
    },
    "id": "6rKVURPoQcRk",
    "outputId": "a6e077dc-dc61-483f-d9eb-745782fdb341"
   },
   "outputs": [
    {
     "name": "stdout",
     "output_type": "stream",
     "text": [
      "Solving using Gradient Descent...\n",
      "With Regularization\n"
     ]
    },
    {
     "name": "stderr",
     "output_type": "stream",
     "text": [
      "  0%|          | 17/50000 [00:00<00:07, 6854.10it/s]"
     ]
    },
    {
     "name": "stdout",
     "output_type": "stream",
     "text": [
      "The model stopped learning\n"
     ]
    },
    {
     "name": "stderr",
     "output_type": "stream",
     "text": [
      "\n"
     ]
    },
    {
     "data": {
      "image/png": "[encoded data removed]",
      "text/plain": [
       "<Figure size 640x480 with 1 Axes>"
      ]
     },
     "metadata": {},
     "output_type": "display_data"
    },
    {
     "name": "stdout",
     "output_type": "stream",
     "text": [
      "Final weights: [ 9.41341285  0.54642415 -1.23215841  0.05104763 -0.17380326 -0.15979105\n",
      " 11.89984719]\n",
      "Train_RMSE:  8.941775979060647\n",
      "Train_SSE:  17110.446539177086\n",
      "Test_RMSE:  8.818665775383517\n",
      "Test_SSE:  7232.504543386611\n"
     ]
    }
   ],
   "source": [
    "clf = LinearRegression(X_yacht, y_yacht, learning_rate=0.1 * 10**-2, tolerance=0.1 * 10**-2, max_iterations=50000, lambda_=0.001,\n",
    "                       sgd_iterations=100, min_batch_size=0, max_batch_size=0, gd=True, regularization=True, sgd=False)\n",
    "clf.fit()\n",
    "\n",
    "# Since normal equation doesn't populate the errors list, we only plot RMSE if using gradient descent or SGD\n",
    "#if clf.gd or clf.sgd:\n",
    " #   clf.plot_rmse(clf.errors)"
   ]
  },
  {
   "cell_type": "code",
   "execution_count": 20,
   "id": "NeOKHBn8QcRk",
   "metadata": {
    "colab": {
     "base_uri": "https://localhost:8080/",
     "height": 563
    },
    "id": "NeOKHBn8QcRk",
    "outputId": "6475fcff-8ba6-4937-e6b9-b3421418ee8c"
   },
   "outputs": [
    {
     "name": "stdout",
     "output_type": "stream",
     "text": [
      "Solving using Stochastic Gradient Descent...\n"
     ]
    },
    {
     "name": "stderr",
     "output_type": "stream",
     "text": [
      " 43%|████▎     | 43/100 [00:00<00:00, 11154.37it/s]"
     ]
    },
    {
     "name": "stdout",
     "output_type": "stream",
     "text": [
      "The model stopped learning\n"
     ]
    },
    {
     "name": "stderr",
     "output_type": "stream",
     "text": [
      "\n"
     ]
    },
    {
     "data": {
      "image/png": "[encoded data removed]",
      "text/plain": [
       "<Figure size 640x480 with 1 Axes>"
      ]
     },
     "metadata": {},
     "output_type": "display_data"
    },
    {
     "name": "stdout",
     "output_type": "stream",
     "text": [
      "Batch sizes used during training: [36, 96, 49, 44, 24, 27, 15, 42, 76, 62, 33, 90, 98, 45, 46, 66, 36, 63, 91, 51, 29, 35, 33, 52, 28, 30, 57, 53, 96, 63, 58, 55, 86, 53, 67, 34, 78, 45, 35, 21, 73, 11, 22, 31]\n",
      "Final weights: [ 9.68606079  0.28246025 -0.77572431 -0.03493473 -0.62750723  0.31989207\n",
      " 11.23166045]\n",
      "Train_RMSE:  8.618740288076216\n",
      "Train_SSE:  15896.494408807934\n",
      "Test_RMSE:  9.859189205628144\n",
      "Test_SSE:  9039.93589669083\n"
     ]
    }
   ],
   "source": [
    "clf = LinearRegression(X_yacht, y_yacht, learning_rate=0.1 * 10**-2, tolerance=0.1 * 10**-2, max_iterations=50000, lambda_=0,\n",
    "                       sgd_iterations=100, min_batch_size=10, max_batch_size=100, gd=False, regularization=False, sgd=True)\n",
    "clf.fit()\n"
   ]
  },
  {
   "cell_type": "markdown",
   "id": "fbvE2suhQPHC",
   "metadata": {
    "id": "fbvE2suhQPHC"
   },
   "source": [
    "## Concrete Dataset"
   ]
  },
  {
   "cell_type": "code",
   "execution_count": 21,
   "id": "t9pI5amwEB1Z",
   "metadata": {
    "id": "t9pI5amwEB1Z"
   },
   "outputs": [],
   "source": [
    "df_concrete = pd.read_csv(r\"../dataset/concreteData.csv\")\n"
   ]
  },
  {
   "cell_type": "code",
   "execution_count": 22,
   "id": "-qGxilHKYPEN",
   "metadata": {
    "colab": {
     "base_uri": "https://localhost:8080/",
     "height": 206
    },
    "id": "-qGxilHKYPEN",
    "outputId": "cf5f1814-9f2b-4a06-bbaf-c604a2c65794"
   },
   "outputs": [
    {
     "data": {
      "text/html": [
       "<div>\n",
       "<style scoped>\n",
       "    .dataframe tbody tr th:only-of-type {\n",
       "        vertical-align: middle;\n",
       "    }\n",
       "\n",
       "    .dataframe tbody tr th {\n",
       "        vertical-align: top;\n",
       "    }\n",
       "\n",
       "    .dataframe thead th {\n",
       "        text-align: right;\n",
       "    }\n",
       "</style>\n",
       "<table border=\"1\" class=\"dataframe\">\n",
       "  <thead>\n",
       "    <tr style=\"text-align: right;\">\n",
       "      <th></th>\n",
       "      <th>540</th>\n",
       "      <th>0</th>\n",
       "      <th>0.1</th>\n",
       "      <th>162</th>\n",
       "      <th>2.5</th>\n",
       "      <th>1040</th>\n",
       "      <th>676</th>\n",
       "      <th>28</th>\n",
       "      <th>79.99</th>\n",
       "    </tr>\n",
       "  </thead>\n",
       "  <tbody>\n",
       "    <tr>\n",
       "      <th>0</th>\n",
       "      <td>540.0</td>\n",
       "      <td>0.0</td>\n",
       "      <td>0.0</td>\n",
       "      <td>162.0</td>\n",
       "      <td>2.5</td>\n",
       "      <td>1055.0</td>\n",
       "      <td>676.0</td>\n",
       "      <td>28</td>\n",
       "      <td>61.89</td>\n",
       "    </tr>\n",
       "    <tr>\n",
       "      <th>1</th>\n",
       "      <td>332.5</td>\n",
       "      <td>142.5</td>\n",
       "      <td>0.0</td>\n",
       "      <td>228.0</td>\n",
       "      <td>0.0</td>\n",
       "      <td>932.0</td>\n",
       "      <td>594.0</td>\n",
       "      <td>270</td>\n",
       "      <td>40.27</td>\n",
       "    </tr>\n",
       "    <tr>\n",
       "      <th>2</th>\n",
       "      <td>332.5</td>\n",
       "      <td>142.5</td>\n",
       "      <td>0.0</td>\n",
       "      <td>228.0</td>\n",
       "      <td>0.0</td>\n",
       "      <td>932.0</td>\n",
       "      <td>594.0</td>\n",
       "      <td>365</td>\n",
       "      <td>41.05</td>\n",
       "    </tr>\n",
       "    <tr>\n",
       "      <th>3</th>\n",
       "      <td>198.6</td>\n",
       "      <td>132.4</td>\n",
       "      <td>0.0</td>\n",
       "      <td>192.0</td>\n",
       "      <td>0.0</td>\n",
       "      <td>978.4</td>\n",
       "      <td>825.5</td>\n",
       "      <td>360</td>\n",
       "      <td>44.30</td>\n",
       "    </tr>\n",
       "    <tr>\n",
       "      <th>4</th>\n",
       "      <td>266.0</td>\n",
       "      <td>114.0</td>\n",
       "      <td>0.0</td>\n",
       "      <td>228.0</td>\n",
       "      <td>0.0</td>\n",
       "      <td>932.0</td>\n",
       "      <td>670.0</td>\n",
       "      <td>90</td>\n",
       "      <td>47.03</td>\n",
       "    </tr>\n",
       "  </tbody>\n",
       "</table>\n",
       "</div>"
      ],
      "text/plain": [
       "     540      0  0.1    162  2.5    1040    676   28  79.99\n",
       "0  540.0    0.0  0.0  162.0  2.5  1055.0  676.0   28  61.89\n",
       "1  332.5  142.5  0.0  228.0  0.0   932.0  594.0  270  40.27\n",
       "2  332.5  142.5  0.0  228.0  0.0   932.0  594.0  365  41.05\n",
       "3  198.6  132.4  0.0  192.0  0.0   978.4  825.5  360  44.30\n",
       "4  266.0  114.0  0.0  228.0  0.0   932.0  670.0   90  47.03"
      ]
     },
     "execution_count": 22,
     "metadata": {},
     "output_type": "execute_result"
    }
   ],
   "source": [
    "df_concrete.head()"
   ]
  },
  {
   "cell_type": "code",
   "execution_count": 23,
   "id": "dUgXk3VkR1U6",
   "metadata": {
    "id": "dUgXk3VkR1U6"
   },
   "outputs": [],
   "source": [
    "\n",
    "X_concrete = df_concrete.iloc[:, :-1].values\n",
    "y_concrete = df_concrete.iloc[:, -1].values"
   ]
  },
  {
   "cell_type": "code",
   "execution_count": 24,
   "id": "jBN9OEHVR1X1",
   "metadata": {
    "colab": {
     "base_uri": "https://localhost:8080/"
    },
    "id": "jBN9OEHVR1X1",
    "outputId": "5e7701d2-8c7b-4f0e-bdba-4440bf6073b1"
   },
   "outputs": [
    {
     "name": "stdout",
     "output_type": "stream",
     "text": [
      "Solving using Normal Equation...\n",
      "It's full rank\n",
      "Matrix is full rank, solving with Normal Equation without regularization\n",
      "Final weights: [35.51322222 12.50561378  8.9585404   5.87892577 -2.86628605  1.71188739\n",
      "  1.83243043  2.35490653  7.24056908]\n",
      "Train_RMSE:  10.19772370091085\n",
      "Train_SSE:  74875.36944968559\n",
      "Test_RMSE:  10.67601849299466\n",
      "Test_SSE:  35219.00759659406\n"
     ]
    }
   ],
   "source": [
    "clf = LinearRegression(X_concrete, y_concrete, learning_rate=0.1 * 10**-2, tolerance=0.1 * 10**-2, max_iterations=50000, lambda_ = 0,\n",
    "                       sgd_iterations=100, min_batch_size=0, max_batch_size=0, gd=False, regularization=False, sgd=False)\n",
    "clf.fit()\n",
    "\n",
    "# Since normal equation doesn't populate the errors list, we only plot RMSE if using gradient descent or SGD\n",
    "#if clf.gd or clf.sgd:\n",
    " #   clf.plot_rmse(clf.errors)"
   ]
  },
  {
   "cell_type": "code",
   "execution_count": 25,
   "id": "umMI_44ZR1fH",
   "metadata": {
    "colab": {
     "base_uri": "https://localhost:8080/"
    },
    "id": "umMI_44ZR1fH",
    "outputId": "3dd7d9ad-8ea3-4392-a1c2-7b4d37d58c79"
   },
   "outputs": [
    {
     "name": "stdout",
     "output_type": "stream",
     "text": [
      "Solving using Normal Equation...\n",
      "With Regularization\n",
      "Final weights: [35.78271419 11.93857032  8.35750249  4.82205584 -3.67658371  1.87849403\n",
      "  1.14964106  0.89722533  6.85866975]\n",
      "Train_RMSE:  10.469177938918763\n",
      "Train_SSE:  78914.65443605519\n",
      "Test_RMSE:  10.012182879673702\n",
      "Test_SSE:  30975.33605895364\n"
     ]
    }
   ],
   "source": [
    "clf = LinearRegression(X_concrete, y_concrete, learning_rate=0.1 * 10**-2, tolerance=0.1 * 10**-2, max_iterations=50000, lambda_=0.001,\n",
    "                       sgd_iterations=100, min_batch_size=0, max_batch_size=0, gd=False, regularization=True, sgd=False)\n",
    "clf.fit()\n",
    "\n",
    "# Since normal equation doesn't populate the errors list, we only plot RMSE if using gradient descent or SGD\n",
    "#if clf.gd or clf.sgd:\n",
    " #   clf.plot_rmse(clf.errors)"
   ]
  },
  {
   "cell_type": "code",
   "execution_count": 26,
   "id": "tmrJJ6w5R1iG",
   "metadata": {
    "colab": {
     "base_uri": "https://localhost:8080/",
     "height": 581
    },
    "id": "tmrJJ6w5R1iG",
    "outputId": "ab02c7e6-69d2-47ba-fe88-71fcab5792d4"
   },
   "outputs": [
    {
     "name": "stdout",
     "output_type": "stream",
     "text": [
      "Solving using Gradient Descent...\n",
      "Without Regularization\n"
     ]
    },
    {
     "name": "stderr",
     "output_type": "stream",
     "text": [
      "  0%|          | 30/50000 [00:00<00:03, 14787.77it/s]"
     ]
    },
    {
     "name": "stdout",
     "output_type": "stream",
     "text": [
      "The model stopped learning\n"
     ]
    },
    {
     "name": "stderr",
     "output_type": "stream",
     "text": [
      "\n"
     ]
    },
    {
     "data": {
      "image/png": "[encoded data removed]",
      "text/plain": [
       "<Figure size 640x480 with 1 Axes>"
      ]
     },
     "metadata": {},
     "output_type": "display_data"
    },
    {
     "name": "stdout",
     "output_type": "stream",
     "text": [
      "Final weights: [35.96679167  9.9220655   5.82413217  3.01962149 -5.34248524  1.91727099\n",
      " -0.74269455 -1.21044685  7.12548544]\n",
      "Train_RMSE:  10.493611781190495\n",
      "Train_SSE:  79283.43951432477\n",
      "Test_RMSE:  10.17455888539345\n",
      "Test_SSE:  31988.1893903127\n"
     ]
    }
   ],
   "source": [
    "clf = LinearRegression(X_concrete, y_concrete, learning_rate=0.1 * 10**-2, tolerance=0.1 * 10**-2, max_iterations=50000, lambda_=0,\n",
    "                       sgd_iterations=100, min_batch_size=0, max_batch_size=0, gd=True, regularization=False, sgd=False)\n",
    "clf.fit()\n",
    "\n",
    "# Since normal equation doesn't populate the errors list, we only plot RMSE if using gradient descent or SGD\n",
    "#if clf.gd or clf.sgd:\n",
    " #   clf.plot_rmse(clf.errors)"
   ]
  },
  {
   "cell_type": "code",
   "execution_count": 27,
   "id": "thab1lKUR1lZ",
   "metadata": {
    "colab": {
     "base_uri": "https://localhost:8080/",
     "height": 581
    },
    "id": "thab1lKUR1lZ",
    "outputId": "fce12c3a-1228-4296-f96a-2d1e32b4c7ec"
   },
   "outputs": [
    {
     "name": "stdout",
     "output_type": "stream",
     "text": [
      "Solving using Gradient Descent...\n",
      "With Regularization\n"
     ]
    },
    {
     "name": "stderr",
     "output_type": "stream",
     "text": [
      "  0%|          | 33/50000 [00:00<00:01, 27473.61it/s]"
     ]
    },
    {
     "name": "stdout",
     "output_type": "stream",
     "text": [
      "The model stopped learning\n"
     ]
    },
    {
     "name": "stderr",
     "output_type": "stream",
     "text": [
      "\n"
     ]
    },
    {
     "data": {
      "image/png": "[encoded data removed]",
      "text/plain": [
       "<Figure size 640x480 with 1 Axes>"
      ]
     },
     "metadata": {},
     "output_type": "display_data"
    },
    {
     "name": "stdout",
     "output_type": "stream",
     "text": [
      "Final weights: [35.71103373  9.93769504  6.3559823   3.35152667 -5.32213811  1.83259221\n",
      " -0.9167584  -1.21011081  7.45025956]\n",
      "Train_RMSE:  10.371028801799019\n",
      "Train_SSE:  77441.93165357626\n",
      "Test_RMSE:  10.51362929094577\n",
      "Test_SSE:  34155.74786803675\n"
     ]
    }
   ],
   "source": [
    "clf = LinearRegression(X_concrete, y_concrete, learning_rate=0.1 * 10**-2, tolerance=0.1 * 10**-2, max_iterations=50000, lambda_=0.001,\n",
    "                       sgd_iterations=100, min_batch_size=0, max_batch_size=0, gd=True, regularization=True, sgd=False)\n",
    "clf.fit()\n",
    "\n",
    "# Since normal equation doesn't populate the errors list, we only plot RMSE if using gradient descent or SGD\n",
    "#if clf.gd or clf.sgd:\n",
    " #   clf.plot_rmse(clf.errors)"
   ]
  },
  {
   "cell_type": "code",
   "execution_count": 28,
   "id": "CmZUDnteSqLH",
   "metadata": {
    "colab": {
     "base_uri": "https://localhost:8080/",
     "height": 563
    },
    "id": "CmZUDnteSqLH",
    "outputId": "0dd92248-d546-4c9e-b281-43245a579370"
   },
   "outputs": [
    {
     "name": "stdout",
     "output_type": "stream",
     "text": [
      "Solving using Stochastic Gradient Descent...\n"
     ]
    },
    {
     "name": "stderr",
     "output_type": "stream",
     "text": [
      " 71%|███████   | 71/100 [00:00<00:00, 13541.09it/s]"
     ]
    },
    {
     "name": "stdout",
     "output_type": "stream",
     "text": [
      "The model stopped learning\n"
     ]
    },
    {
     "name": "stderr",
     "output_type": "stream",
     "text": [
      "\n"
     ]
    },
    {
     "data": {
      "image/png": "[encoded data removed]",
      "text/plain": [
       "<Figure size 640x480 with 1 Axes>"
      ]
     },
     "metadata": {},
     "output_type": "display_data"
    },
    {
     "name": "stdout",
     "output_type": "stream",
     "text": [
      "Batch sizes used during training: [23, 41, 27, 91, 82, 87, 60, 66, 62, 62, 13, 25, 57, 63, 20, 82, 92, 58, 22, 34, 26, 21, 22, 98, 54, 15, 75, 16, 62, 97, 38, 70, 18, 69, 83, 91, 82, 47, 20, 21, 80, 18, 72, 83, 49, 92, 28, 52, 67, 13, 97, 24, 25, 23, 93, 33, 60, 46, 22, 11, 15, 23, 84, 55, 96, 97, 27, 58, 66, 34, 20, 18]\n",
      "Final weights: [35.5849474   6.72630971  3.2577927   0.5187082  -5.17665606  3.66687482\n",
      " -1.7203481  -2.98906902  6.55446578]\n",
      "Train_RMSE:  10.870694777123964\n",
      "Train_SSE:  85083.84355492095\n",
      "Test_RMSE:  10.072009084987595\n",
      "Test_SSE:  31346.61840549445\n"
     ]
    }
   ],
   "source": [
    "clf = LinearRegression(X_concrete, y_concrete, learning_rate=0.1 * 10**-2, tolerance=0.1 * 10**-2, max_iterations=50000, lambda_=0,\n",
    "                       sgd_iterations=100, min_batch_size=10, max_batch_size=100, gd=False, regularization=False, sgd=True)\n",
    "clf.fit()\n"
   ]
  },
  {
   "cell_type": "markdown",
   "id": "F7Rb9i4hWEz-",
   "metadata": {
    "id": "F7Rb9i4hWEz-"
   },
   "source": [
    "## Observations:\n",
    "\n",
    "## Effects on Learning:\n",
    "\n",
    "### Learning Rate:\n",
    "- **Effect on Convergence Speed:** A higher learning rate accelerates convergence, making the model reach an acceptable solution faster. However, if the learning rate is too high, the model might oscillate around the optimal solution or even diverge.\n",
    "\n",
    "### Regularization Parameter:\n",
    "- **Control Overfitting:** Increasing the regularization parameter encourages the model to favor simpler solutions, which helps prevent overfitting on the training data. However, setting it too high may excessively constrain the model, leading to underfitting and poor performance on both training and test data.\n",
    "- **Balance Between Bias and Variance:** Finding the right balance in the regularization parameter is crucial. A moderate regularization parameter value typically achieves the best tradeoff between bias and variance, resulting in a model that generalizes well to unseen data.\n",
    "\n",
    "## Conclusion:\n",
    "Optimizing the learning rate and regularization parameters involves finding the right balance between convergence speed, stability, and model complexity. Experimentation and validation on a separate validation dataset are essential to determine the optimal values for these parameters, ensuring that the trained model generalizes well to unseen data while avoiding underfitting and overfitting issues.\n",
    "\n"
   ]
  }
 ],
 "metadata": {
  "colab": {
   "provenance": []
  },
  "kernelspec": {
   "display_name": "Python 3 (ipykernel)",
   "language": "python",
   "name": "python3"
  },
  "language_info": {
   "codemirror_mode": {
    "name": "ipython",
    "version": 3
   },
   "file_extension": ".py",
   "mimetype": "text/x-python",
   "name": "python",
   "nbconvert_exporter": "python",
   "pygments_lexer": "ipython3",
   "version": "3.12.4"
  }
 },
 "nbformat": 4,
 "nbformat_minor": 5
}
